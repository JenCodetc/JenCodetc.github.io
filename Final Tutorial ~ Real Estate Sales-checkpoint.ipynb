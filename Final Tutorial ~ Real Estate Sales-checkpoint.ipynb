{
 "cells": [
  {
   "attachments": {},
   "cell_type": "markdown",
   "id": "781c2bfb",
   "metadata": {},
   "source": [
    "#                          Analysis of Real Estate Sales in Conneticut "
   ]
  },
  {
   "attachments": {},
   "cell_type": "markdown",
   "id": "e9d54a8d",
   "metadata": {},
   "source": [
    "##### Collaborators: Arin Zeng, Helen Gu, Jennifer Li, Jason Chen\n",
    "<hr>"
   ]
  },
  {
   "attachments": {},
   "cell_type": "markdown",
   "id": "bca5129e",
   "metadata": {},
   "source": [
    "## Step 1: Data Collection                                "
   ]
  },
  {
   "cell_type": "code",
   "execution_count": null,
   "id": "f8ded948",
   "metadata": {},
   "outputs": [],
   "source": [
    "\n",
    "#!/usr/bin/env python\n",
    "\n",
    "# make sure to install these packages before running:\n",
    "# pip install pandas\n",
    "# pip install sodapy\n",
    "\n",
    "import pandas as pd\n",
    "from sodapy import Socrata\n",
    "\n",
    "# Unauthenticated client only works with public data sets. Note 'None'\n",
    "# in place of application token, and no username or password:\n",
    "client = Socrata(\"data.ct.gov\", None)\n",
    "\n",
    "# Example authenticated client (needed for non-public datasets):\n",
    "# client = Socrata(data.ct.gov,\n",
    "#                  MyAppToken,\n",
    "#                  username=\"user@example.com\",\n",
    "#                  password=\"AFakePassword\")\n",
    "\n",
    "# First 2000 results, returned as JSON from API / converted to Python list of\n",
    "# dictionaries by sodapy.\n",
    "results = client.get(\"5mzw-sjtu\", limit=2000)\n",
    "\n",
    "# Convert to pandas DataFrame\n",
    "results_df = pd.DataFrame.from_records(results)"
   ]
  },
  {
   "attachments": {},
   "cell_type": "markdown",
   "id": "f93775eb",
   "metadata": {},
   "source": [
    "## Step 2: Data Processing"
   ]
  },
  {
   "attachments": {},
   "cell_type": "markdown",
   "id": "77a68bfb",
   "metadata": {},
   "source": [
    "## Step 3: Exploratory Analysis & Data Visualization"
   ]
  },
  {
   "attachments": {},
   "cell_type": "markdown",
   "id": "5c1cc131",
   "metadata": {},
   "source": [
    "## Step 4: Exploratory Analysis & Data Visualization"
   ]
  },
  {
   "attachments": {},
   "cell_type": "markdown",
   "id": "29592c50",
   "metadata": {},
   "source": [
    "## Step 5: Model: Analysis, Hypothesis Testing, Machine Learning"
   ]
  },
  {
   "attachments": {},
   "cell_type": "markdown",
   "id": "ca719647",
   "metadata": {},
   "source": [
    "## Step 6: Interpretation: Insight & Policy Decision"
   ]
  },
  {
   "cell_type": "code",
   "execution_count": null,
   "id": "6f76cd1d",
   "metadata": {},
   "outputs": [],
   "source": [
    "\n",
    "\n"
   ]
  },
  {
   "cell_type": "code",
   "execution_count": null,
   "id": "0a752899",
   "metadata": {},
   "outputs": [],
   "source": []
  },
  {
   "cell_type": "code",
   "execution_count": null,
   "id": "98f64a8f",
   "metadata": {},
   "outputs": [],
   "source": []
  },
  {
   "cell_type": "code",
   "execution_count": null,
   "id": "6900aa00",
   "metadata": {},
   "outputs": [],
   "source": []
  }
 ],
 "metadata": {
  "kernelspec": {
   "display_name": "Python 3 (ipykernel)",
   "language": "python",
   "name": "python3"
  },
  "language_info": {
   "codemirror_mode": {
    "name": "ipython",
    "version": 3
   },
   "file_extension": ".py",
   "mimetype": "text/x-python",
   "name": "python",
   "nbconvert_exporter": "python",
   "pygments_lexer": "ipython3",
   "version": "3.10.2"
  }
 },
 "nbformat": 4,
 "nbformat_minor": 5
}
