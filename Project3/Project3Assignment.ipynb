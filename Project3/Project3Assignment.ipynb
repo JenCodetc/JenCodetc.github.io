{
 "cells": [
  {
   "cell_type": "code",
   "execution_count": null,
   "metadata": {},
   "outputs": [],
   "source": [
    "# Jennifer Li\n",
    "# UID: 117822007"
   ]
  },
  {
   "cell_type": "code",
   "execution_count": null,
   "metadata": {},
   "outputs": [],
   "source": [
    "import pandas as pd\n",
    "data = pd.read_csv(\"gap.tsv\", sep='\\t')\n",
    "data.head()\n",
    "\n",
    "## # A tibble: 6 × 6\n",
    "##       country continent  year lifeExp      pop gdpPercap\n",
    "##        <fctr>    <fctr> <int>   <dbl>    <int>     <dbl>\n",
    "## 1 Afghanistan      Asia  1952  28.801  8425333  779.4453\n",
    "## 2 Afghanistan      Asia  1957  30.332  9240934  820.8530\n",
    "## 3 Afghanistan      Asia  1962  31.997 10267083  853.1007\n",
    "## 4 Afghanistan      Asia  1967  34.020 11537966  836.1971\n",
    "## 5 Afghanistan      Asia  1972  36.088 13079460  739.9811\n",
    "## 6 Afghanistan      Asia  1977  38.438 14880372  786.1134"
   ]
  }
 ],
 "metadata": {
  "language_info": {
   "name": "python"
  },
  "orig_nbformat": 4
 },
 "nbformat": 4,
 "nbformat_minor": 2
}
