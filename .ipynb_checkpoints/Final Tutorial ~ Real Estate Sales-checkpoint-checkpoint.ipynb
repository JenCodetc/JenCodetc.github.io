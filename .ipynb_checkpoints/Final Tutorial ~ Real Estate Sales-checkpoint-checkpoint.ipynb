{
 "cells": [
  {
   "cell_type": "markdown",
   "id": "781c2bfb",
   "metadata": {},
   "source": [
    "#                          Analysis of Real Estate Sales in Conneticut "
   ]
  },
  {
   "cell_type": "markdown",
   "id": "e9d54a8d",
   "metadata": {},
   "source": [
    "##### Collaborators: Arin Zeng, Helen Gu, Jennifer Li, Jason Chen\n",
    "<hr>"
   ]
  },
  {
   "cell_type": "markdown",
   "id": "bca5129e",
   "metadata": {},
   "source": [
    "## Step 1: Data Collection                                "
   ]
  },
  {
   "cell_type": "code",
   "execution_count": null,
   "id": "f8ded948",
   "metadata": {},
   "outputs": [],
   "source": []
  },
  {
   "cell_type": "markdown",
   "id": "f93775eb",
   "metadata": {},
   "source": [
    "## Step 2: Data Processing"
   ]
  },
  {
   "cell_type": "markdown",
   "id": "77a68bfb",
   "metadata": {},
   "source": [
    "## Step 3: Exploratory Analysis & Data Visualization"
   ]
  },
  {
   "cell_type": "markdown",
   "id": "5c1cc131",
   "metadata": {},
   "source": [
    "## Step 4: Exploratory Analysis & Data Visualization"
   ]
  },
  {
   "cell_type": "markdown",
   "id": "29592c50",
   "metadata": {},
   "source": [
    "## Step 5: Model: Analysis, Hypothesis Testing, Machine Learning"
   ]
  },
  {
   "cell_type": "markdown",
   "id": "ca719647",
   "metadata": {},
   "source": [
    "## Step 6: Interpretation: Insight & Policy Decision"
   ]
  },
  {
   "cell_type": "code",
   "execution_count": null,
   "id": "6f76cd1d",
   "metadata": {},
   "outputs": [],
   "source": []
  },
  {
   "cell_type": "code",
   "execution_count": null,
   "id": "0a752899",
   "metadata": {},
   "outputs": [],
   "source": []
  },
  {
   "cell_type": "code",
   "execution_count": null,
   "id": "98f64a8f",
   "metadata": {},
   "outputs": [],
   "source": []
  },
  {
   "cell_type": "code",
   "execution_count": null,
   "id": "6900aa00",
   "metadata": {},
   "outputs": [],
   "source": []
  }
 ],
 "metadata": {
  "kernelspec": {
   "display_name": "Python 3 (ipykernel)",
   "language": "python",
   "name": "python3"
  },
  "language_info": {
   "codemirror_mode": {
    "name": "ipython",
    "version": 3
   },
   "file_extension": ".py",
   "mimetype": "text/x-python",
   "name": "python",
   "nbconvert_exporter": "python",
   "pygments_lexer": "ipython3",
   "version": "3.8.8"
  }
 },
 "nbformat": 4,
 "nbformat_minor": 5
}
